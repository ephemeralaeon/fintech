{
 "cells": [
  {
   "cell_type": "markdown",
   "metadata": {},
   "source": [
    "# PyBank"
   ]
  },
  {
   "cell_type": "markdown",
   "metadata": {},
   "source": [
    "## Instructions\n",
    "In this activity, you are tasked with creating a Python script for analyzing the financial records of your company. You will be provided with a financial dataset in this file: [budget_data.csv](PyBank/Resources/budget_data.csv). This dataset is composed of two columns: Date and Profit/Losses. (Thankfully, your company has rather lax standards for accounting, so the records are simple.)\n",
    "\n",
    "Your task is to create a Python script that analyzes the records to calculate each of the following:\n",
    "\n",
    "* The total number of months included in the dataset.\n",
    "\n",
    "* The net total amount of Profit/Losses over the entire period.\n",
    "\n",
    "* The average of the changes in Profit/Losses over the entire period.\n",
    "\n",
    "* The greatest increase in profits (date and amount) over the entire period.\n",
    "\n",
    "* The greatest decrease in losses (date and amount) over the entire period.\n",
    "\n",
    "Your resulting analysis should look similar to the following:\n",
    "\n",
    "  ```text\n",
    "  Financial Analysis\n",
    "  ----------------------------\n",
    "  Total Months: 86\n",
    "  Total: $38382578\n",
    "  Average  Change: $-2315.12\n",
    "  Greatest Increase in Profits: Feb-2012 ($1926159)\n",
    "  Greatest Decrease in Profits: Sep-2013 ($-2196167)\n",
    "  ```\n",
    "\n",
    "Your final script should print the analysis to the terminal and export a text file with the results."
   ]
  },
  {
   "cell_type": "code",
   "execution_count": 2,
   "metadata": {},
   "outputs": [
    {
     "name": "stdout",
     "output_type": "stream",
     "text": [
      "Financial Analysis\n",
      "------------------------------\n",
      "Total Months: 86\n",
      "Total: $38382578\n",
      "Average Change: $-2315.12\n",
      "Greatest Increase in Profits: Feb-2012 ($1926159)\n",
      "Greatest Decrease in Profits: Sep-2013 ($-2196167)\n"
     ]
    }
   ],
   "source": [
    "import csv\n",
    "from collections import OrderedDict \n",
    "from statistics import mean\n",
    "\n",
    "month_total = None\n",
    "net_profit = None\n",
    "change_avg = float\n",
    "profit_max_date = None\n",
    "profit_max_amount = None\n",
    "loss_min_date = None\n",
    "loss_min_amount = None\n",
    "budget_data = OrderedDict()\n",
    "change = OrderedDict()\n",
    "\n",
    "with open('Resources/budget_data.csv') as csvfile:\n",
    "    spreadsheet = csv.reader(csvfile, delimiter=',')\n",
    "    next(spreadsheet)\n",
    "    for date, amount in spreadsheet:\n",
    "        budget_data[str(date)] = int(amount)\n",
    "        \n",
    "    last_val = list(budget_data.values())[0]\n",
    "    \n",
    "    for key in list(budget_data.keys())[1:]:\n",
    "        value = budget_data[key]\n",
    "        change[key] = value - last_val\n",
    "        last_val = value\n",
    "        \n",
    "month_total = len(budget_data)\n",
    "net_profit = sum(budget_data.values())\n",
    "#  = max(budget_data.iteritems(), key=lambda k: budget_data[k])\n",
    "profit_max_date,profit_max_amount = max(change.iteritems(), key=lambda x:x[1])\n",
    "loss_min_date,loss_min_amount = min(change.iteritems(), key=lambda x:x[1])\n",
    "change_avg = mean(change.values())\n",
    "\n",
    "print(\"Financial Analysis\")\n",
    "print(\"-\"*30)\n",
    "print(\"Total Months: \" + str(month_total))\n",
    "print(\"Total: $\" +str(net_profit))\n",
    "print(\"Average Change: $\" + str(round(change_avg,2)))\n",
    "print(\"Greatest Increase in Profits: \" + profit_max_date  + \" ($\"+str(profit_max_amount) + \")\")\n",
    "print(\"Greatest Decrease in Profits: \" + loss_min_date  + \" ($\"+str(loss_min_amount) + \")\")\n",
    "        \n"
   ]
  },
  {
   "cell_type": "code",
   "execution_count": null,
   "metadata": {},
   "outputs": [],
   "source": []
  }
 ],
 "metadata": {
  "kernelspec": {
   "display_name": "Python 3",
   "language": "python",
   "name": "python3"
  },
  "language_info": {
   "codemirror_mode": {
    "name": "ipython",
    "version": 2
   },
   "file_extension": ".py",
   "mimetype": "text/x-python",
   "name": "python",
   "nbconvert_exporter": "python",
   "pygments_lexer": "ipython2",
   "version": "2.7.15"
  }
 },
 "nbformat": 4,
 "nbformat_minor": 2
}
